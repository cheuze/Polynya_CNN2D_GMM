{
 "cells": [
  {
   "cell_type": "code",
   "execution_count": null,
   "id": "2195fd0a",
   "metadata": {},
   "outputs": [
    {
     "name": "stdout",
     "output_type": "stream",
     "text": [
      "0\n",
      "500\n",
      "1000\n",
      "1500\n",
      "2000\n",
      "2500\n"
     ]
    }
   ],
   "source": [
    "import h5py \n",
    "import cupy\n",
    "import matplotlib.pyplot as plt\n",
    "import numpy as np\n",
    "\n",
    "from sklearn.metrics import mean_squared_error\n",
    "from sklearn.model_selection import train_test_split\n",
    "from sklearn.mixture import GaussianMixture\n",
    "\n",
    "#no test-train split; running on all images\n",
    "\n",
    "with h5py.File('allNSIDC_fortraining.h5', \"r\") as f: #448 x 304 x 7300 original daily images\n",
    "    X0 = f['sic'][()] \n",
    "    \n",
    "X0=np.where(X0<0.40,0,X0) #change the value here to impose different SIC thresholds  \n",
    "    \n",
    "nlon=X0.shape[2]\n",
    "nlat=X0.shape[1]\n",
    "X0=cupy.reshape(X0,[X0.shape[0],nlon*nlat]).transpose()\n",
    "\n",
    "mask_OO=np.zeros((nlat,nlon,X0.shape[1]))\n",
    "\n",
    "for i in range(X0.shape[1]):\n",
    "    junkmask=np.zeros((nlat,nlon,10))\n",
    "    \n",
    "    for j in range(10):\n",
    "        gmm = GaussianMixture(n_components = 3, covariance_type = 'full', tol = 1e-3, max_iter = 200, n_init = 3, init_params = 'kmeans', verbose = 0)\n",
    "        gmm.fit(X0[:,np.max((i,0)):np.min((i+1,X0.shape[1]))])\n",
    "        Ypred = gmm.predict(X0[:,np.max((i,0)):np.min((i+1,X0.shape[1]))])\n",
    "        junk=cupy.reshape(Ypred,[nlat, nlon])\n",
    "        classnum=np.median(junk[370:400,150:250])\n",
    "        junkmask[:,:,j]=np.where(junk==classnum,1,0)\n",
    "        del gmm, junk, Ypred, classnum\n",
    "        \n",
    "    junkmask=np.squeeze(np.sum(junkmask,axis=2))\n",
    "    mask_OO[:,:,i]=np.where(junkmask>=5,1,0)\n",
    "    \n",
    "    if i%500==0: #On our system, takes 20h to run on all 7300 images; we save every 500 images  \n",
    "        f1 = h5py.File(\"GMM_fortraining_3classes_SIC40_2days.hdf5\", \"w\")\n",
    "        dset1 = f1.create_dataset(\"mask_OO\", mask_OO.shape, dtype=np.float32, data=mask_OO)\n",
    "        f1.close()\n",
    "        \n",
    "f1 = h5py.File(\"GMM_fortraining_3classes_SIC40_2days.hdf5\", \"w\")\n",
    "dset1 = f1.create_dataset(\"mask_OO\", mask_OO.shape, dtype=np.float32, data=mask_OO)\n",
    "f1.close()"
   ]
  }
 ],
 "metadata": {
  "kernelspec": {
   "display_name": "Python 3 (ipykernel)",
   "language": "python",
   "name": "python3"
  },
  "language_info": {
   "codemirror_mode": {
    "name": "ipython",
    "version": 3
   },
   "file_extension": ".py",
   "mimetype": "text/x-python",
   "name": "python",
   "nbconvert_exporter": "python",
   "pygments_lexer": "ipython3",
   "version": "3.8.10"
  }
 },
 "nbformat": 4,
 "nbformat_minor": 5
}
